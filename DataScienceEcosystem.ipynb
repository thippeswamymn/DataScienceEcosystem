{
 "cells": [
  {
   "cell_type": "markdown",
   "id": "627ab649-d804-4eaa-9b42-fc70971ff809",
   "metadata": {},
   "source": [
    "# Data Science Tools and Ecosystem"
   ]
  },
  {
   "cell_type": "markdown",
   "id": "38810bc8-64d4-40f4-a4d1-dfe98e138bbf",
   "metadata": {
    "tags": []
   },
   "source": [
    "## In this notebook, Data Science Tools and Ecosystem are summarized."
   ]
  },
  {
   "cell_type": "markdown",
   "id": "919269b5-2ea5-41d8-9991-9a931008ab73",
   "metadata": {
    "tags": []
   },
   "source": [
    "**Objectives:**\n",
    "\n",
    "* Introduction to Jupyter notebook\n",
    "* Difference between Markdown and Code cell\n",
    "* popular language used in Data Science\n",
    "    * Python\n",
    "    * Python\n",
    "    * Scala\n",
    "    * Julia\n",
    "    * Tableu\n",
    "* Data Science tools.\n",
    "\n"
   ]
  },
  {
   "cell_type": "markdown",
   "id": "0c854f3c-4b0b-4fa6-9943-f8e955a73643",
   "metadata": {},
   "source": [
    "Some of the popular languages that Data Scientists use are:\n",
    "\n",
    "1. Python\n",
    "2. R\n",
    "3. Julia\n",
    "4. Tableu"
   ]
  },
  {
   "cell_type": "markdown",
   "id": "a10d2c0c-87f1-4f37-a7f0-326448ca7ada",
   "metadata": {},
   "source": [
    "Some of the commonly used libraries used by Data Scientists include:\n",
    "\n",
    "1. Pandas\n",
    "2. SciPy\n",
    "3. NumPy\n",
    "4. PyTorch"
   ]
  },
  {
   "cell_type": "markdown",
   "id": "b75db8c7-b4f2-4ecf-b064-e5ae7c1608bc",
   "metadata": {},
   "source": [
    "| Data Science Tools | \n",
    "| -------------------|\n",
    "| GitHub |\n",
    "| IBM Watson Studio |\n",
    "| Fiddler |\n"
   ]
  },
  {
   "cell_type": "markdown",
   "id": "752fd9e6-cbc0-4e24-bf80-7aaefc39b943",
   "metadata": {},
   "source": [
    "###  Below are a few examples of evaluating arithmetic expressions in Python."
   ]
  },
  {
   "cell_type": "code",
   "execution_count": 2,
   "id": "704fba7d-c947-4ec0-a575-df82c432d15d",
   "metadata": {
    "tags": []
   },
   "outputs": [
    {
     "data": {
      "text/plain": [
       "17"
      ]
     },
     "execution_count": 2,
     "metadata": {},
     "output_type": "execute_result"
    }
   ],
   "source": [
    "(3*4)+5"
   ]
  },
  {
   "cell_type": "code",
   "execution_count": 20,
   "id": "fe94b155-a607-4a7f-8076-dcb86ece5e31",
   "metadata": {
    "tags": []
   },
   "outputs": [
    {
     "data": {
      "text/plain": [
       "3.3333333333333335"
      ]
     },
     "execution_count": 20,
     "metadata": {},
     "output_type": "execute_result"
    }
   ],
   "source": [
    "(200 / 60)"
   ]
  },
  {
   "cell_type": "markdown",
   "id": "cb4d425c-6ed0-4edb-a3a7-8c53c8ebf032",
   "metadata": {},
   "source": [
    "## Author\n",
    "\n",
    "Thippeswamy MN"
   ]
  }
 ],
 "metadata": {
  "kernelspec": {
   "display_name": "Python 3 (ipykernel)",
   "language": "python",
   "name": "python3"
  },
  "language_info": {
   "codemirror_mode": {
    "name": "ipython",
    "version": 3
   },
   "file_extension": ".py",
   "mimetype": "text/x-python",
   "name": "python",
   "nbconvert_exporter": "python",
   "pygments_lexer": "ipython3",
   "version": "3.11.5"
  }
 },
 "nbformat": 4,
 "nbformat_minor": 5
}
